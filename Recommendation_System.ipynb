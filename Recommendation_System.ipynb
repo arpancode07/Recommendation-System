{
 "cells": [
  {
   "cell_type": "markdown",
   "id": "09be9327",
   "metadata": {
    "papermill": {
     "duration": 0.006344,
     "end_time": "2023-08-12T10:13:18.835770",
     "exception": false,
     "start_time": "2023-08-12T10:13:18.829426",
     "status": "completed"
    },
    "tags": []
   },
   "source": [
    "# Recommendation System\n",
    "\n",
    "Recommendation systems are a crucial application of machine learning that aim to provide personalized suggestions to users for products, services, or content they might be interested in. These systems have become an integral part of various online platforms, including e-commerce websites, streaming services, social media platforms, and more. The primary goal of recommendation systems is to enhance user experience by delivering relevant and personalized recommendations, which can lead to increased user engagement, satisfaction, and ultimately, higher conversion rates for businesses.\n",
    "\n",
    "## Types of Recommendation Systems:\n",
    "* Content-Based Recommendation\n",
    "* Collaborative Filtering\n",
    "* Hybrid Recommendation\n",
    "\n",
    "## Importance of Recommendation Systems:\n",
    "* Personalization\n",
    "* Enhanced User Experience\n",
    "* Increased Revenue and Conversion\n",
    "* Retention and Loyalty\n",
    "* Data-Driven Insights\n",
    "* Competitive Advantage\n",
    "* Cross-Selling and Upselling"
   ]
  },
  {
   "cell_type": "markdown",
   "id": "55c658d7",
   "metadata": {
    "papermill": {
     "duration": 0.005361,
     "end_time": "2023-08-12T10:13:18.846852",
     "exception": false,
     "start_time": "2023-08-12T10:13:18.841491",
     "status": "completed"
    },
    "tags": []
   },
   "source": [
    "In this notebook, I will train a recommendation system using Collaborative filtering and Deep Learning. "
   ]
  },
  {
   "cell_type": "markdown",
   "id": "a803cada",
   "metadata": {
    "papermill": {
     "duration": 0.005243,
     "end_time": "2023-08-12T10:13:18.857819",
     "exception": false,
     "start_time": "2023-08-12T10:13:18.852576",
     "status": "completed"
    },
    "tags": []
   },
   "source": [
    "## Importing necessary libraries"
   ]
  },
  {
   "cell_type": "code",
   "execution_count": 1,
   "id": "d4889032",
   "metadata": {
    "execution": {
     "iopub.execute_input": "2023-08-12T10:13:18.871513Z",
     "iopub.status.busy": "2023-08-12T10:13:18.870525Z",
     "iopub.status.idle": "2023-08-12T10:13:23.243563Z",
     "shell.execute_reply": "2023-08-12T10:13:23.242566Z"
    },
    "papermill": {
     "duration": 4.382832,
     "end_time": "2023-08-12T10:13:23.246407",
     "exception": false,
     "start_time": "2023-08-12T10:13:18.863575",
     "status": "completed"
    },
    "tags": []
   },
   "outputs": [
    {
     "name": "stderr",
     "output_type": "stream",
     "text": [
      "/opt/conda/lib/python3.10/site-packages/scipy/__init__.py:146: UserWarning: A NumPy version >=1.16.5 and <1.23.0 is required for this version of SciPy (detected version 1.23.5\n",
      "  warnings.warn(f\"A NumPy version >={np_minversion} and <{np_maxversion}\"\n"
     ]
    }
   ],
   "source": [
    "import pandas as pd\n",
    "import numpy as np\n",
    "import torch\n",
    "import torch.nn as nn\n",
    "import torch.optim as optim\n",
    "import matplotlib.pyplot as plt\n",
    "from sklearn.metrics import average_precision_score\n",
    "from torch.utils.data import Dataset, DataLoader"
   ]
  },
  {
   "cell_type": "code",
   "execution_count": 2,
   "id": "1e6359fa",
   "metadata": {
    "execution": {
     "iopub.execute_input": "2023-08-12T10:13:23.261610Z",
     "iopub.status.busy": "2023-08-12T10:13:23.260455Z",
     "iopub.status.idle": "2023-08-12T10:13:41.368965Z",
     "shell.execute_reply": "2023-08-12T10:13:41.367954Z"
    },
    "papermill": {
     "duration": 18.118133,
     "end_time": "2023-08-12T10:13:41.371607",
     "exception": false,
     "start_time": "2023-08-12T10:13:23.253474",
     "status": "completed"
    },
    "tags": []
   },
   "outputs": [],
   "source": [
    "## Read in the datasets\n",
    "movies = pd.read_csv('/kaggle/input/movie-recommendation-system/movies.csv')\n",
    "ratings = pd.read_csv('/kaggle/input/movie-recommendation-system/ratings.csv',low_memory=False)"
   ]
  },
  {
   "cell_type": "code",
   "execution_count": 3,
   "id": "7f7b6606",
   "metadata": {
    "execution": {
     "iopub.execute_input": "2023-08-12T10:13:41.387208Z",
     "iopub.status.busy": "2023-08-12T10:13:41.386913Z",
     "iopub.status.idle": "2023-08-12T10:13:41.392098Z",
     "shell.execute_reply": "2023-08-12T10:13:41.391183Z"
    },
    "papermill": {
     "duration": 0.016897,
     "end_time": "2023-08-12T10:13:41.394775",
     "exception": false,
     "start_time": "2023-08-12T10:13:41.377878",
     "status": "completed"
    },
    "tags": []
   },
   "outputs": [
    {
     "name": "stdout",
     "output_type": "stream",
     "text": [
      "(62423, 3)\n",
      "(25000095, 4)\n"
     ]
    }
   ],
   "source": [
    "print(movies.shape)\n",
    "print(ratings.shape)"
   ]
  },
  {
   "cell_type": "code",
   "execution_count": 4,
   "id": "1022a64c",
   "metadata": {
    "execution": {
     "iopub.execute_input": "2023-08-12T10:13:41.407368Z",
     "iopub.status.busy": "2023-08-12T10:13:41.407090Z",
     "iopub.status.idle": "2023-08-12T10:13:41.422278Z",
     "shell.execute_reply": "2023-08-12T10:13:41.421321Z"
    },
    "papermill": {
     "duration": 0.023796,
     "end_time": "2023-08-12T10:13:41.424176",
     "exception": false,
     "start_time": "2023-08-12T10:13:41.400380",
     "status": "completed"
    },
    "tags": []
   },
   "outputs": [
    {
     "data": {
      "text/html": [
       "<div>\n",
       "<style scoped>\n",
       "    .dataframe tbody tr th:only-of-type {\n",
       "        vertical-align: middle;\n",
       "    }\n",
       "\n",
       "    .dataframe tbody tr th {\n",
       "        vertical-align: top;\n",
       "    }\n",
       "\n",
       "    .dataframe thead th {\n",
       "        text-align: right;\n",
       "    }\n",
       "</style>\n",
       "<table border=\"1\" class=\"dataframe\">\n",
       "  <thead>\n",
       "    <tr style=\"text-align: right;\">\n",
       "      <th></th>\n",
       "      <th>movieId</th>\n",
       "      <th>title</th>\n",
       "      <th>genres</th>\n",
       "    </tr>\n",
       "  </thead>\n",
       "  <tbody>\n",
       "    <tr>\n",
       "      <th>0</th>\n",
       "      <td>1</td>\n",
       "      <td>Toy Story (1995)</td>\n",
       "      <td>Adventure|Animation|Children|Comedy|Fantasy</td>\n",
       "    </tr>\n",
       "    <tr>\n",
       "      <th>1</th>\n",
       "      <td>2</td>\n",
       "      <td>Jumanji (1995)</td>\n",
       "      <td>Adventure|Children|Fantasy</td>\n",
       "    </tr>\n",
       "    <tr>\n",
       "      <th>2</th>\n",
       "      <td>3</td>\n",
       "      <td>Grumpier Old Men (1995)</td>\n",
       "      <td>Comedy|Romance</td>\n",
       "    </tr>\n",
       "    <tr>\n",
       "      <th>3</th>\n",
       "      <td>4</td>\n",
       "      <td>Waiting to Exhale (1995)</td>\n",
       "      <td>Comedy|Drama|Romance</td>\n",
       "    </tr>\n",
       "    <tr>\n",
       "      <th>4</th>\n",
       "      <td>5</td>\n",
       "      <td>Father of the Bride Part II (1995)</td>\n",
       "      <td>Comedy</td>\n",
       "    </tr>\n",
       "  </tbody>\n",
       "</table>\n",
       "</div>"
      ],
      "text/plain": [
       "   movieId                               title  \\\n",
       "0        1                    Toy Story (1995)   \n",
       "1        2                      Jumanji (1995)   \n",
       "2        3             Grumpier Old Men (1995)   \n",
       "3        4            Waiting to Exhale (1995)   \n",
       "4        5  Father of the Bride Part II (1995)   \n",
       "\n",
       "                                        genres  \n",
       "0  Adventure|Animation|Children|Comedy|Fantasy  \n",
       "1                   Adventure|Children|Fantasy  \n",
       "2                               Comedy|Romance  \n",
       "3                         Comedy|Drama|Romance  \n",
       "4                                       Comedy  "
      ]
     },
     "execution_count": 4,
     "metadata": {},
     "output_type": "execute_result"
    }
   ],
   "source": [
    "movies.head()"
   ]
  },
  {
   "cell_type": "code",
   "execution_count": 5,
   "id": "ca6c59bd",
   "metadata": {
    "execution": {
     "iopub.execute_input": "2023-08-12T10:13:41.437970Z",
     "iopub.status.busy": "2023-08-12T10:13:41.437202Z",
     "iopub.status.idle": "2023-08-12T10:13:41.447815Z",
     "shell.execute_reply": "2023-08-12T10:13:41.446745Z"
    },
    "papermill": {
     "duration": 0.019678,
     "end_time": "2023-08-12T10:13:41.450098",
     "exception": false,
     "start_time": "2023-08-12T10:13:41.430420",
     "status": "completed"
    },
    "tags": []
   },
   "outputs": [
    {
     "data": {
      "text/html": [
       "<div>\n",
       "<style scoped>\n",
       "    .dataframe tbody tr th:only-of-type {\n",
       "        vertical-align: middle;\n",
       "    }\n",
       "\n",
       "    .dataframe tbody tr th {\n",
       "        vertical-align: top;\n",
       "    }\n",
       "\n",
       "    .dataframe thead th {\n",
       "        text-align: right;\n",
       "    }\n",
       "</style>\n",
       "<table border=\"1\" class=\"dataframe\">\n",
       "  <thead>\n",
       "    <tr style=\"text-align: right;\">\n",
       "      <th></th>\n",
       "      <th>userId</th>\n",
       "      <th>movieId</th>\n",
       "      <th>rating</th>\n",
       "      <th>timestamp</th>\n",
       "    </tr>\n",
       "  </thead>\n",
       "  <tbody>\n",
       "    <tr>\n",
       "      <th>0</th>\n",
       "      <td>1</td>\n",
       "      <td>296</td>\n",
       "      <td>5.0</td>\n",
       "      <td>1147880044</td>\n",
       "    </tr>\n",
       "    <tr>\n",
       "      <th>1</th>\n",
       "      <td>1</td>\n",
       "      <td>306</td>\n",
       "      <td>3.5</td>\n",
       "      <td>1147868817</td>\n",
       "    </tr>\n",
       "    <tr>\n",
       "      <th>2</th>\n",
       "      <td>1</td>\n",
       "      <td>307</td>\n",
       "      <td>5.0</td>\n",
       "      <td>1147868828</td>\n",
       "    </tr>\n",
       "    <tr>\n",
       "      <th>3</th>\n",
       "      <td>1</td>\n",
       "      <td>665</td>\n",
       "      <td>5.0</td>\n",
       "      <td>1147878820</td>\n",
       "    </tr>\n",
       "    <tr>\n",
       "      <th>4</th>\n",
       "      <td>1</td>\n",
       "      <td>899</td>\n",
       "      <td>3.5</td>\n",
       "      <td>1147868510</td>\n",
       "    </tr>\n",
       "  </tbody>\n",
       "</table>\n",
       "</div>"
      ],
      "text/plain": [
       "   userId  movieId  rating   timestamp\n",
       "0       1      296     5.0  1147880044\n",
       "1       1      306     3.5  1147868817\n",
       "2       1      307     5.0  1147868828\n",
       "3       1      665     5.0  1147878820\n",
       "4       1      899     3.5  1147868510"
      ]
     },
     "execution_count": 5,
     "metadata": {},
     "output_type": "execute_result"
    }
   ],
   "source": [
    "ratings.head()"
   ]
  },
  {
   "cell_type": "code",
   "execution_count": 6,
   "id": "ce863c89",
   "metadata": {
    "execution": {
     "iopub.execute_input": "2023-08-12T10:13:41.464150Z",
     "iopub.status.busy": "2023-08-12T10:13:41.463365Z",
     "iopub.status.idle": "2023-08-12T10:13:46.415957Z",
     "shell.execute_reply": "2023-08-12T10:13:46.414879Z"
    },
    "papermill": {
     "duration": 4.961921,
     "end_time": "2023-08-12T10:13:46.418231",
     "exception": false,
     "start_time": "2023-08-12T10:13:41.456310",
     "status": "completed"
    },
    "tags": []
   },
   "outputs": [
    {
     "data": {
      "text/html": [
       "<div>\n",
       "<style scoped>\n",
       "    .dataframe tbody tr th:only-of-type {\n",
       "        vertical-align: middle;\n",
       "    }\n",
       "\n",
       "    .dataframe tbody tr th {\n",
       "        vertical-align: top;\n",
       "    }\n",
       "\n",
       "    .dataframe thead th {\n",
       "        text-align: right;\n",
       "    }\n",
       "</style>\n",
       "<table border=\"1\" class=\"dataframe\">\n",
       "  <thead>\n",
       "    <tr style=\"text-align: right;\">\n",
       "      <th></th>\n",
       "      <th>movieId</th>\n",
       "      <th>title</th>\n",
       "      <th>genres</th>\n",
       "      <th>userId</th>\n",
       "      <th>rating</th>\n",
       "      <th>timestamp</th>\n",
       "    </tr>\n",
       "  </thead>\n",
       "  <tbody>\n",
       "    <tr>\n",
       "      <th>0</th>\n",
       "      <td>1</td>\n",
       "      <td>Toy Story (1995)</td>\n",
       "      <td>Adventure|Animation|Children|Comedy|Fantasy</td>\n",
       "      <td>2</td>\n",
       "      <td>3.5</td>\n",
       "      <td>1141415820</td>\n",
       "    </tr>\n",
       "    <tr>\n",
       "      <th>1</th>\n",
       "      <td>1</td>\n",
       "      <td>Toy Story (1995)</td>\n",
       "      <td>Adventure|Animation|Children|Comedy|Fantasy</td>\n",
       "      <td>3</td>\n",
       "      <td>4.0</td>\n",
       "      <td>1439472215</td>\n",
       "    </tr>\n",
       "    <tr>\n",
       "      <th>2</th>\n",
       "      <td>1</td>\n",
       "      <td>Toy Story (1995)</td>\n",
       "      <td>Adventure|Animation|Children|Comedy|Fantasy</td>\n",
       "      <td>4</td>\n",
       "      <td>3.0</td>\n",
       "      <td>1573944252</td>\n",
       "    </tr>\n",
       "    <tr>\n",
       "      <th>3</th>\n",
       "      <td>1</td>\n",
       "      <td>Toy Story (1995)</td>\n",
       "      <td>Adventure|Animation|Children|Comedy|Fantasy</td>\n",
       "      <td>5</td>\n",
       "      <td>4.0</td>\n",
       "      <td>858625949</td>\n",
       "    </tr>\n",
       "    <tr>\n",
       "      <th>4</th>\n",
       "      <td>1</td>\n",
       "      <td>Toy Story (1995)</td>\n",
       "      <td>Adventure|Animation|Children|Comedy|Fantasy</td>\n",
       "      <td>8</td>\n",
       "      <td>4.0</td>\n",
       "      <td>890492517</td>\n",
       "    </tr>\n",
       "  </tbody>\n",
       "</table>\n",
       "</div>"
      ],
      "text/plain": [
       "   movieId             title                                       genres  \\\n",
       "0        1  Toy Story (1995)  Adventure|Animation|Children|Comedy|Fantasy   \n",
       "1        1  Toy Story (1995)  Adventure|Animation|Children|Comedy|Fantasy   \n",
       "2        1  Toy Story (1995)  Adventure|Animation|Children|Comedy|Fantasy   \n",
       "3        1  Toy Story (1995)  Adventure|Animation|Children|Comedy|Fantasy   \n",
       "4        1  Toy Story (1995)  Adventure|Animation|Children|Comedy|Fantasy   \n",
       "\n",
       "   userId  rating   timestamp  \n",
       "0       2     3.5  1141415820  \n",
       "1       3     4.0  1439472215  \n",
       "2       4     3.0  1573944252  \n",
       "3       5     4.0   858625949  \n",
       "4       8     4.0   890492517  "
      ]
     },
     "execution_count": 6,
     "metadata": {},
     "output_type": "execute_result"
    }
   ],
   "source": [
    "data = pd.merge(movies,ratings,on='movieId')\n",
    "data.head()"
   ]
  },
  {
   "cell_type": "code",
   "execution_count": 7,
   "id": "04992a96",
   "metadata": {
    "execution": {
     "iopub.execute_input": "2023-08-12T10:13:46.434150Z",
     "iopub.status.busy": "2023-08-12T10:13:46.433868Z",
     "iopub.status.idle": "2023-08-12T10:13:46.606630Z",
     "shell.execute_reply": "2023-08-12T10:13:46.605470Z"
    },
    "papermill": {
     "duration": 0.184155,
     "end_time": "2023-08-12T10:13:46.609464",
     "exception": false,
     "start_time": "2023-08-12T10:13:46.425309",
     "status": "completed"
    },
    "tags": []
   },
   "outputs": [],
   "source": [
    "n_users = len(ratings['userId'].unique())\n",
    "n_movies = len(movies['title'].unique())\n",
    "n_factors = 10 # Can use any value we like"
   ]
  },
  {
   "cell_type": "code",
   "execution_count": 8,
   "id": "adcd283b",
   "metadata": {
    "execution": {
     "iopub.execute_input": "2023-08-12T10:13:46.624397Z",
     "iopub.status.busy": "2023-08-12T10:13:46.624080Z",
     "iopub.status.idle": "2023-08-12T10:13:47.291602Z",
     "shell.execute_reply": "2023-08-12T10:13:47.290592Z"
    },
    "papermill": {
     "duration": 0.677481,
     "end_time": "2023-08-12T10:13:47.293950",
     "exception": false,
     "start_time": "2023-08-12T10:13:46.616469",
     "status": "completed"
    },
    "tags": []
   },
   "outputs": [
    {
     "data": {
      "image/png": "[encoded data removed]",
      "text/plain": [
       "<Figure size 640x480 with 1 Axes>"
      ]
     },
     "metadata": {},
     "output_type": "display_data"
    }
   ],
   "source": [
    "data['rating'].value_counts().plot(kind='bar',title='No of ratings')\n",
    "plt.show()"
   ]
  },
  {
   "cell_type": "markdown",
   "id": "de59b584",
   "metadata": {
    "papermill": {
     "duration": 0.006601,
     "end_time": "2023-08-12T10:13:47.307796",
     "exception": false,
     "start_time": "2023-08-12T10:13:47.301195",
     "status": "completed"
    },
    "tags": []
   },
   "source": [
    "## Metric\n",
    "\n",
    "The following code defines a function called compute_map that calculates the mean average precision (MAP) for a list of ground-truth ratings and predicted scores. MAP is a metric commonly used in information retrieval and recommendation systems to evaluate the performance of ranking algorithms."
   ]
  },
  {
   "cell_type": "code",
   "execution_count": 9,
   "id": "37dde1ed",
   "metadata": {
    "execution": {
     "iopub.execute_input": "2023-08-12T10:13:47.322603Z",
     "iopub.status.busy": "2023-08-12T10:13:47.322310Z",
     "iopub.status.idle": "2023-08-12T10:13:47.330636Z",
     "shell.execute_reply": "2023-08-12T10:13:47.329713Z"
    },
    "papermill": {
     "duration": 0.018193,
     "end_time": "2023-08-12T10:13:47.332578",
     "exception": false,
     "start_time": "2023-08-12T10:13:47.314385",
     "status": "completed"
    },
    "tags": []
   },
   "outputs": [],
   "source": [
    "def compute_map(y_true, y_score, k=None):\n",
    "    \"\"\"\n",
    "    Compute mean average precision (MAP) given a list of ground-truth ratings and predicted scores.\n",
    "\n",
    "    Args:\n",
    "        y_true (list): List of ground-truth ratings, where each element is either 0 (negative) or 1 (positive).\n",
    "        y_score (list): List of predicted scores, where each element is a real number between 0 and 1.\n",
    "        k (int, optional): The maximum number of items to consider. If None, consider all items. Defaults to None.\n",
    "\n",
    "    Returns:\n",
    "        float: The mean average precision (MAP) score.\n",
    "    \"\"\"\n",
    "    if k is not None:\n",
    "        y_true = y_true[:k]\n",
    "        y_score = y_score[:k]\n",
    "\n",
    "    # Sort the items by score in descending order\n",
    "    sorted_indices = sorted(range(len(y_score)), key=lambda i: y_score[i], reverse=True)\n",
    "    y_true_sorted = [y_true[i] for i in sorted_indices]\n",
    "\n",
    "    # Compute the average precision at each position\n",
    "    ap = 0.0\n",
    "    tp = 0.0\n",
    "    fp = 0.0\n",
    "    for i, label in enumerate(y_true_sorted):\n",
    "        if label == 1:\n",
    "            tp += 1.0\n",
    "        else:\n",
    "            fp += 1.0\n",
    "        ap += tp / (tp + fp) * label\n",
    "\n",
    "    # Compute the mean average precision\n",
    "    if sum(y_true) > 0:\n",
    "        map_score = ap / sum(y_true)\n",
    "    else:\n",
    "        map_score = 0.0\n",
    "\n",
    "    return map_score\n"
   ]
  },
  {
   "cell_type": "markdown",
   "id": "16bd120d",
   "metadata": {
    "papermill": {
     "duration": 0.006355,
     "end_time": "2023-08-12T10:13:47.345415",
     "exception": false,
     "start_time": "2023-08-12T10:13:47.339060",
     "status": "completed"
    },
    "tags": []
   },
   "source": [
    "This function is useful for evaluating the performance of recommendation systems by comparing the predicted item rankings to the ground-truth rankings. **A higher MAP score indicates better ranking performance**, suggesting that the recommendation system is more effectively providing relevant items to users."
   ]
  },
  {
   "cell_type": "code",
   "execution_count": 10,
   "id": "0579f88b",
   "metadata": {
    "execution": {
     "iopub.execute_input": "2023-08-12T10:13:47.360624Z",
     "iopub.status.busy": "2023-08-12T10:13:47.359963Z",
     "iopub.status.idle": "2023-08-12T10:13:47.369977Z",
     "shell.execute_reply": "2023-08-12T10:13:47.369142Z"
    },
    "papermill": {
     "duration": 0.019883,
     "end_time": "2023-08-12T10:13:47.371907",
     "exception": false,
     "start_time": "2023-08-12T10:13:47.352024",
     "status": "completed"
    },
    "tags": []
   },
   "outputs": [],
   "source": [
    "class RecSys(nn.Module):\n",
    "    def __init__(self,n_users,n_movies,embedding_size):\n",
    "        super(RecSys,self).__init__()\n",
    "        self.user_embedding = nn.Embedding(n_users,embedding_size)\n",
    "        self.movie_embedding = nn.Embedding(n_movies,embedding_size)\n",
    "        self.user_bias = nn.Embedding(n_users,1)\n",
    "        self.movie_bias = nn.Embedding(n_movies,1)\n",
    "        self.fc1 = nn.Linear(embedding_size*2,128)\n",
    "        self.fc2 = nn.Linear(128,64)\n",
    "        self.fc3 = nn.Linear(64,1)\n",
    "        self.dropout = nn.Dropout(0.5)\n",
    "        \n",
    "    def forward(self,user_ids,movie_ids):\n",
    "        user_embedded = self.user_embedding(user_ids)\n",
    "        movie_embedded = self.movie_embedding(movie_ids)\n",
    "        user_bias = self.user_bias(user_ids)\n",
    "        movie_bias = self.movie_bias(movie_ids)\n",
    "        x = torch.cat([user_embedded,movie_embedded],dim=1)\n",
    "        x = self.fc1(x)\n",
    "        x = nn.ReLU()(x)\n",
    "        x = self.dropout(x)\n",
    "        x = self.fc2(x)\n",
    "        x = nn.ReLU()(x)\n",
    "        x = self.dropout(x)\n",
    "        x = self.fc3(x)\n",
    "        x = x + user_bias + movie_bias\n",
    "        return x"
   ]
  },
  {
   "cell_type": "code",
   "execution_count": 11,
   "id": "5ba5e2d4",
   "metadata": {
    "execution": {
     "iopub.execute_input": "2023-08-12T10:13:47.386770Z",
     "iopub.status.busy": "2023-08-12T10:13:47.385977Z",
     "iopub.status.idle": "2023-08-12T10:14:41.148777Z",
     "shell.execute_reply": "2023-08-12T10:14:41.147740Z"
    },
    "papermill": {
     "duration": 53.773123,
     "end_time": "2023-08-12T10:14:41.151670",
     "exception": false,
     "start_time": "2023-08-12T10:13:47.378547",
     "status": "completed"
    },
    "tags": []
   },
   "outputs": [],
   "source": [
    "# Convert user and item IDs to integers\n",
    "user_ids = {id: i for i, id in enumerate(data['userId'].unique())}\n",
    "movie_ids = {id: i for i, id in enumerate(data['movieId'].unique())}\n",
    "data['userId'] = data['userId'].apply(lambda x: user_ids[x])\n",
    "data['movieId'] = data['movieId'].apply(lambda x: movie_ids[x])\n",
    "\n",
    "# Split the data into training and test sets\n",
    "train_data = data.sample(frac=0.8, random_state=123)\n",
    "test_data = data.drop(train_data.index)\n",
    "\n",
    "# Define a PyTorch Dataset for the training and test sets\n",
    "class RatingDataset(Dataset):\n",
    "    def __init__(self, data):\n",
    "        self.user_ids = data['userId'].values\n",
    "        self.movie_ids = data['movieId'].values\n",
    "        self.ratings = data['rating'].values\n",
    "        \n",
    "    def __len__(self):\n",
    "        return len(self.user_ids)\n",
    "    \n",
    "    def __getitem__(self, idx):\n",
    "        user_id = self.user_ids[idx]\n",
    "        movie_id = self.movie_ids[idx]\n",
    "        rating = self.ratings[idx]\n",
    "        return user_id, movie_id, rating\n",
    "\n",
    "train_dataset = RatingDataset(train_data)\n",
    "test_dataset = RatingDataset(test_data)\n",
    "\n",
    "# Define PyTorch DataLoaders for the training and test sets\n",
    "train_loader = DataLoader(train_dataset, batch_size=64, shuffle=True)\n",
    "test_loader = DataLoader(test_dataset, batch_size=64, shuffle=False)\n",
    "\n",
    "## Initialize model and optimizer\n",
    "model = RecSys(n_users,n_movies,n_factors)\n",
    "optimizer = optim.AdamW(model.parameters(),lr=0.015)"
   ]
  },
  {
   "cell_type": "code",
   "execution_count": 12,
   "id": "cb6833a1",
   "metadata": {
    "execution": {
     "iopub.execute_input": "2023-08-12T10:14:41.167100Z",
     "iopub.status.busy": "2023-08-12T10:14:41.166800Z",
     "iopub.status.idle": "2023-08-12T10:14:44.167553Z",
     "shell.execute_reply": "2023-08-12T10:14:44.166551Z"
    },
    "papermill": {
     "duration": 3.011208,
     "end_time": "2023-08-12T10:14:44.170041",
     "exception": false,
     "start_time": "2023-08-12T10:14:41.158833",
     "status": "completed"
    },
    "tags": []
   },
   "outputs": [],
   "source": [
    "device = 'cuda' if torch.cuda.is_available() else 'cpu'\n",
    "model.to(device)\n",
    "\n",
    "def train(train_loader,optimizer,num_epochs):\n",
    "    model.train()\n",
    "    for epoch in range(num_epochs):\n",
    "        running_loss = 0.0\n",
    "        for user_id, movie_id, rating in train_loader:\n",
    "            user_id = user_id.to(device) ## Move to GPU for faster processing\n",
    "            movie_id = movie_id.to(device)\n",
    "            optimizer.zero_grad()  # Set gradients to zero\n",
    "            outputs = model(user_id, movie_id)\n",
    "            loss = compute_map(rating, outputs)\n",
    "            loss = torch.tensor(loss, requires_grad=True)  # Wrap in Variable with requires_grad=True\n",
    "            loss.backward()\n",
    "            optimizer.step()\n",
    "            running_loss += loss.item()\n",
    "        print(f\"Epoch {epoch+1} MAP: {running_loss/len(train_loader)}\")\n",
    "        \n",
    "def evaluate(test_loader, model):\n",
    "    model.eval()  # Set the model to evaluation mode\n",
    "\n",
    "    running_loss = 0.0\n",
    "    num_samples = 0\n",
    "\n",
    "    for user_id, movie_id, rating in test_loader:\n",
    "        with torch.no_grad():  # Disable gradient computation during evaluation\n",
    "            outputs = model(user_id.to(device), movie_id.to(device))\n",
    "            loss = compute_map(rating, outputs.cpu())\n",
    "            running_loss += loss.item()\n",
    "            num_samples += 1\n",
    "\n",
    "    map_score = running_loss / num_samples\n",
    "    return map_score\n"
   ]
  },
  {
   "cell_type": "markdown",
   "id": "0027b544",
   "metadata": {
    "papermill": {
     "duration": 0.006504,
     "end_time": "2023-08-12T10:14:44.183483",
     "exception": false,
     "start_time": "2023-08-12T10:14:44.176979",
     "status": "completed"
    },
    "tags": []
   },
   "source": [
    "The parameters of the model will still be updated even if the loss value does not require gradients. This is because the optimizer updates the parameters based on the gradients of the loss function with respect to the parameters, not the gradients of the loss value itself.\n",
    "\n",
    "When you call loss.backward(), the gradients of the loss function with respect to the parameters are computed using the chain rule of differentiation. These gradients are then used by the optimizer to update the parameters of the model during the optimizer.step() call.\n",
    "\n",
    "So even if the loss value itself does not require gradients, as long as the gradients of the loss function with respect to the parameters are computed and used to update the parameters, the model will still learn from the training data and improve its predictions over time."
   ]
  },
  {
   "cell_type": "code",
   "execution_count": 13,
   "id": "cb541a94",
   "metadata": {
    "execution": {
     "iopub.execute_input": "2023-08-12T10:14:44.198856Z",
     "iopub.status.busy": "2023-08-12T10:14:44.197879Z",
     "iopub.status.idle": "2023-08-12T11:08:02.647011Z",
     "shell.execute_reply": "2023-08-12T11:08:02.645971Z"
    },
    "papermill": {
     "duration": 3198.465901,
     "end_time": "2023-08-12T11:08:02.655921",
     "exception": false,
     "start_time": "2023-08-12T10:14:44.190020",
     "status": "completed"
    },
    "tags": []
   },
   "outputs": [
    {
     "name": "stderr",
     "output_type": "stream",
     "text": [
      "/tmp/ipykernel_23/3854479167.py:14: UserWarning: To copy construct from a tensor, it is recommended to use sourceTensor.clone().detach() or sourceTensor.clone().detach().requires_grad_(True), rather than torch.tensor(sourceTensor).\n",
      "  loss = torch.tensor(loss, requires_grad=True)  # Wrap in Variable with requires_grad=True\n"
     ]
    },
    {
     "name": "stdout",
     "output_type": "stream",
     "text": [
      "Epoch 1 MAP: 0.02988312447398565\n",
      "0.02979273325886409\n"
     ]
    }
   ],
   "source": [
    "train(train_loader,optimizer,num_epochs=1)\n",
    "print(evaluate(test_loader, model))"
   ]
  },
  {
   "cell_type": "code",
   "execution_count": 14,
   "id": "96f60b20",
   "metadata": {
    "execution": {
     "iopub.execute_input": "2023-08-12T11:08:02.671175Z",
     "iopub.status.busy": "2023-08-12T11:08:02.670844Z",
     "iopub.status.idle": "2023-08-12T11:08:02.786731Z",
     "shell.execute_reply": "2023-08-12T11:08:02.785735Z"
    },
    "papermill": {
     "duration": 0.12632,
     "end_time": "2023-08-12T11:08:02.789198",
     "exception": false,
     "start_time": "2023-08-12T11:08:02.662878",
     "status": "completed"
    },
    "tags": []
   },
   "outputs": [],
   "source": [
    "import csv\n",
    "\n",
    "# Create a dictionary mapping movie IDs to their titles\n",
    "movie_id_to_title = {}\n",
    "with open('/kaggle/input/movie-recommendation-system/movies.csv', 'r', encoding='utf8') as f:\n",
    "    reader = csv.reader(f)\n",
    "    next(reader)  # Skip header row\n",
    "    for row in reader:\n",
    "        movie_id = int(row[0])\n",
    "        title = row[1]\n",
    "        movie_id_to_title[movie_id] = title"
   ]
  },
  {
   "cell_type": "code",
   "execution_count": 15,
   "id": "e387c72a",
   "metadata": {
    "execution": {
     "iopub.execute_input": "2023-08-12T11:08:02.805016Z",
     "iopub.status.busy": "2023-08-12T11:08:02.804535Z",
     "iopub.status.idle": "2023-08-12T11:08:04.042248Z",
     "shell.execute_reply": "2023-08-12T11:08:04.040882Z"
    },
    "papermill": {
     "duration": 1.247377,
     "end_time": "2023-08-12T11:08:04.043744",
     "exception": true,
     "start_time": "2023-08-12T11:08:02.796367",
     "status": "failed"
    },
    "tags": []
   },
   "outputs": [
    {
     "ename": "RuntimeError",
     "evalue": "Expected all tensors to be on the same device, but found at least two devices, cuda:0 and cpu! (when checking argument for argument index in method wrapper_CUDA__index_select)",
     "output_type": "error",
     "traceback": [
      "\u001b[0;31m---------------------------------------------------------------------------\u001b[0m",
      "\u001b[0;31mRuntimeError\u001b[0m                              Traceback (most recent call last)",
      "Cell \u001b[0;32mIn[15], line 30\u001b[0m\n\u001b[1;32m     26\u001b[0m             top_movie_titles\u001b[38;5;241m.\u001b[39mappend(\u001b[38;5;124mf\u001b[39m\u001b[38;5;124m\"\u001b[39m\u001b[38;5;124mMovie Id:\u001b[39m\u001b[38;5;132;01m{\u001b[39;00mmovie_id\u001b[38;5;132;01m}\u001b[39;00m\u001b[38;5;124m\"\u001b[39m)\n\u001b[1;32m     28\u001b[0m     \u001b[38;5;28;01mreturn\u001b[39;00m top_movie_titles\n\u001b[0;32m---> 30\u001b[0m \u001b[43mrecommend_movies\u001b[49m\u001b[43m(\u001b[49m\u001b[43mmodel\u001b[49m\u001b[43m,\u001b[49m\u001b[43m \u001b[49m\u001b[43muser_id\u001b[49m\u001b[38;5;241;43m=\u001b[39;49m\u001b[38;5;241;43m12\u001b[39;49m\u001b[43m,\u001b[49m\u001b[43m \u001b[49m\u001b[43mtop_n\u001b[49m\u001b[38;5;241;43m=\u001b[39;49m\u001b[38;5;241;43m10\u001b[39;49m\u001b[43m)\u001b[49m \u001b[38;5;66;03m## Not best of function to retrieve recommendations\u001b[39;00m\n\u001b[1;32m     31\u001b[0m \u001b[38;5;66;03m## It is better to retrieve recommendation from the embedding created by the model\u001b[39;00m\n",
      "Cell \u001b[0;32mIn[15], line 9\u001b[0m, in \u001b[0;36mrecommend_movies\u001b[0;34m(model, user_id, top_n)\u001b[0m\n\u001b[1;32m      6\u001b[0m user_ids \u001b[38;5;241m=\u001b[39m torch\u001b[38;5;241m.\u001b[39mfull((n_movies,), user_id)\n\u001b[1;32m      8\u001b[0m \u001b[38;5;66;03m# Get the predicted ratings for all movies by the given user\u001b[39;00m\n\u001b[0;32m----> 9\u001b[0m ratings \u001b[38;5;241m=\u001b[39m \u001b[43mmodel\u001b[49m\u001b[43m(\u001b[49m\u001b[43muser_ids\u001b[49m\u001b[43m,\u001b[49m\u001b[43m \u001b[49m\u001b[43mmovie_ids\u001b[49m\u001b[43m)\u001b[49m\n\u001b[1;32m     11\u001b[0m \u001b[38;5;66;03m# Sort the movie IDs by predicted rating in descending order\u001b[39;00m\n\u001b[1;32m     12\u001b[0m sorted_indices \u001b[38;5;241m=\u001b[39m torch\u001b[38;5;241m.\u001b[39margsort(ratings, descending\u001b[38;5;241m=\u001b[39m\u001b[38;5;28;01mTrue\u001b[39;00m)\n",
      "File \u001b[0;32m/opt/conda/lib/python3.10/site-packages/torch/nn/modules/module.py:1501\u001b[0m, in \u001b[0;36mModule._call_impl\u001b[0;34m(self, *args, **kwargs)\u001b[0m\n\u001b[1;32m   1496\u001b[0m \u001b[38;5;66;03m# If we don't have any hooks, we want to skip the rest of the logic in\u001b[39;00m\n\u001b[1;32m   1497\u001b[0m \u001b[38;5;66;03m# this function, and just call forward.\u001b[39;00m\n\u001b[1;32m   1498\u001b[0m \u001b[38;5;28;01mif\u001b[39;00m \u001b[38;5;129;01mnot\u001b[39;00m (\u001b[38;5;28mself\u001b[39m\u001b[38;5;241m.\u001b[39m_backward_hooks \u001b[38;5;129;01mor\u001b[39;00m \u001b[38;5;28mself\u001b[39m\u001b[38;5;241m.\u001b[39m_backward_pre_hooks \u001b[38;5;129;01mor\u001b[39;00m \u001b[38;5;28mself\u001b[39m\u001b[38;5;241m.\u001b[39m_forward_hooks \u001b[38;5;129;01mor\u001b[39;00m \u001b[38;5;28mself\u001b[39m\u001b[38;5;241m.\u001b[39m_forward_pre_hooks\n\u001b[1;32m   1499\u001b[0m         \u001b[38;5;129;01mor\u001b[39;00m _global_backward_pre_hooks \u001b[38;5;129;01mor\u001b[39;00m _global_backward_hooks\n\u001b[1;32m   1500\u001b[0m         \u001b[38;5;129;01mor\u001b[39;00m _global_forward_hooks \u001b[38;5;129;01mor\u001b[39;00m _global_forward_pre_hooks):\n\u001b[0;32m-> 1501\u001b[0m     \u001b[38;5;28;01mreturn\u001b[39;00m \u001b[43mforward_call\u001b[49m\u001b[43m(\u001b[49m\u001b[38;5;241;43m*\u001b[39;49m\u001b[43margs\u001b[49m\u001b[43m,\u001b[49m\u001b[43m \u001b[49m\u001b[38;5;241;43m*\u001b[39;49m\u001b[38;5;241;43m*\u001b[39;49m\u001b[43mkwargs\u001b[49m\u001b[43m)\u001b[49m\n\u001b[1;32m   1502\u001b[0m \u001b[38;5;66;03m# Do not call functions when jit is used\u001b[39;00m\n\u001b[1;32m   1503\u001b[0m full_backward_hooks, non_full_backward_hooks \u001b[38;5;241m=\u001b[39m [], []\n",
      "Cell \u001b[0;32mIn[10], line 14\u001b[0m, in \u001b[0;36mRecSys.forward\u001b[0;34m(self, user_ids, movie_ids)\u001b[0m\n\u001b[1;32m     13\u001b[0m \u001b[38;5;28;01mdef\u001b[39;00m \u001b[38;5;21mforward\u001b[39m(\u001b[38;5;28mself\u001b[39m,user_ids,movie_ids):\n\u001b[0;32m---> 14\u001b[0m     user_embedded \u001b[38;5;241m=\u001b[39m \u001b[38;5;28;43mself\u001b[39;49m\u001b[38;5;241;43m.\u001b[39;49m\u001b[43muser_embedding\u001b[49m\u001b[43m(\u001b[49m\u001b[43muser_ids\u001b[49m\u001b[43m)\u001b[49m\n\u001b[1;32m     15\u001b[0m     movie_embedded \u001b[38;5;241m=\u001b[39m \u001b[38;5;28mself\u001b[39m\u001b[38;5;241m.\u001b[39mmovie_embedding(movie_ids)\n\u001b[1;32m     16\u001b[0m     user_bias \u001b[38;5;241m=\u001b[39m \u001b[38;5;28mself\u001b[39m\u001b[38;5;241m.\u001b[39muser_bias(user_ids)\n",
      "File \u001b[0;32m/opt/conda/lib/python3.10/site-packages/torch/nn/modules/module.py:1501\u001b[0m, in \u001b[0;36mModule._call_impl\u001b[0;34m(self, *args, **kwargs)\u001b[0m\n\u001b[1;32m   1496\u001b[0m \u001b[38;5;66;03m# If we don't have any hooks, we want to skip the rest of the logic in\u001b[39;00m\n\u001b[1;32m   1497\u001b[0m \u001b[38;5;66;03m# this function, and just call forward.\u001b[39;00m\n\u001b[1;32m   1498\u001b[0m \u001b[38;5;28;01mif\u001b[39;00m \u001b[38;5;129;01mnot\u001b[39;00m (\u001b[38;5;28mself\u001b[39m\u001b[38;5;241m.\u001b[39m_backward_hooks \u001b[38;5;129;01mor\u001b[39;00m \u001b[38;5;28mself\u001b[39m\u001b[38;5;241m.\u001b[39m_backward_pre_hooks \u001b[38;5;129;01mor\u001b[39;00m \u001b[38;5;28mself\u001b[39m\u001b[38;5;241m.\u001b[39m_forward_hooks \u001b[38;5;129;01mor\u001b[39;00m \u001b[38;5;28mself\u001b[39m\u001b[38;5;241m.\u001b[39m_forward_pre_hooks\n\u001b[1;32m   1499\u001b[0m         \u001b[38;5;129;01mor\u001b[39;00m _global_backward_pre_hooks \u001b[38;5;129;01mor\u001b[39;00m _global_backward_hooks\n\u001b[1;32m   1500\u001b[0m         \u001b[38;5;129;01mor\u001b[39;00m _global_forward_hooks \u001b[38;5;129;01mor\u001b[39;00m _global_forward_pre_hooks):\n\u001b[0;32m-> 1501\u001b[0m     \u001b[38;5;28;01mreturn\u001b[39;00m \u001b[43mforward_call\u001b[49m\u001b[43m(\u001b[49m\u001b[38;5;241;43m*\u001b[39;49m\u001b[43margs\u001b[49m\u001b[43m,\u001b[49m\u001b[43m \u001b[49m\u001b[38;5;241;43m*\u001b[39;49m\u001b[38;5;241;43m*\u001b[39;49m\u001b[43mkwargs\u001b[49m\u001b[43m)\u001b[49m\n\u001b[1;32m   1502\u001b[0m \u001b[38;5;66;03m# Do not call functions when jit is used\u001b[39;00m\n\u001b[1;32m   1503\u001b[0m full_backward_hooks, non_full_backward_hooks \u001b[38;5;241m=\u001b[39m [], []\n",
      "File \u001b[0;32m/opt/conda/lib/python3.10/site-packages/torch/nn/modules/sparse.py:162\u001b[0m, in \u001b[0;36mEmbedding.forward\u001b[0;34m(self, input)\u001b[0m\n\u001b[1;32m    161\u001b[0m \u001b[38;5;28;01mdef\u001b[39;00m \u001b[38;5;21mforward\u001b[39m(\u001b[38;5;28mself\u001b[39m, \u001b[38;5;28minput\u001b[39m: Tensor) \u001b[38;5;241m-\u001b[39m\u001b[38;5;241m>\u001b[39m Tensor:\n\u001b[0;32m--> 162\u001b[0m     \u001b[38;5;28;01mreturn\u001b[39;00m \u001b[43mF\u001b[49m\u001b[38;5;241;43m.\u001b[39;49m\u001b[43membedding\u001b[49m\u001b[43m(\u001b[49m\n\u001b[1;32m    163\u001b[0m \u001b[43m        \u001b[49m\u001b[38;5;28;43minput\u001b[39;49m\u001b[43m,\u001b[49m\u001b[43m \u001b[49m\u001b[38;5;28;43mself\u001b[39;49m\u001b[38;5;241;43m.\u001b[39;49m\u001b[43mweight\u001b[49m\u001b[43m,\u001b[49m\u001b[43m \u001b[49m\u001b[38;5;28;43mself\u001b[39;49m\u001b[38;5;241;43m.\u001b[39;49m\u001b[43mpadding_idx\u001b[49m\u001b[43m,\u001b[49m\u001b[43m \u001b[49m\u001b[38;5;28;43mself\u001b[39;49m\u001b[38;5;241;43m.\u001b[39;49m\u001b[43mmax_norm\u001b[49m\u001b[43m,\u001b[49m\n\u001b[1;32m    164\u001b[0m \u001b[43m        \u001b[49m\u001b[38;5;28;43mself\u001b[39;49m\u001b[38;5;241;43m.\u001b[39;49m\u001b[43mnorm_type\u001b[49m\u001b[43m,\u001b[49m\u001b[43m \u001b[49m\u001b[38;5;28;43mself\u001b[39;49m\u001b[38;5;241;43m.\u001b[39;49m\u001b[43mscale_grad_by_freq\u001b[49m\u001b[43m,\u001b[49m\u001b[43m \u001b[49m\u001b[38;5;28;43mself\u001b[39;49m\u001b[38;5;241;43m.\u001b[39;49m\u001b[43msparse\u001b[49m\u001b[43m)\u001b[49m\n",
      "File \u001b[0;32m/opt/conda/lib/python3.10/site-packages/torch/nn/functional.py:2210\u001b[0m, in \u001b[0;36membedding\u001b[0;34m(input, weight, padding_idx, max_norm, norm_type, scale_grad_by_freq, sparse)\u001b[0m\n\u001b[1;32m   2204\u001b[0m     \u001b[38;5;66;03m# Note [embedding_renorm set_grad_enabled]\u001b[39;00m\n\u001b[1;32m   2205\u001b[0m     \u001b[38;5;66;03m# XXX: equivalent to\u001b[39;00m\n\u001b[1;32m   2206\u001b[0m     \u001b[38;5;66;03m# with torch.no_grad():\u001b[39;00m\n\u001b[1;32m   2207\u001b[0m     \u001b[38;5;66;03m#   torch.embedding_renorm_\u001b[39;00m\n\u001b[1;32m   2208\u001b[0m     \u001b[38;5;66;03m# remove once script supports set_grad_enabled\u001b[39;00m\n\u001b[1;32m   2209\u001b[0m     _no_grad_embedding_renorm_(weight, \u001b[38;5;28minput\u001b[39m, max_norm, norm_type)\n\u001b[0;32m-> 2210\u001b[0m \u001b[38;5;28;01mreturn\u001b[39;00m \u001b[43mtorch\u001b[49m\u001b[38;5;241;43m.\u001b[39;49m\u001b[43membedding\u001b[49m\u001b[43m(\u001b[49m\u001b[43mweight\u001b[49m\u001b[43m,\u001b[49m\u001b[43m \u001b[49m\u001b[38;5;28;43minput\u001b[39;49m\u001b[43m,\u001b[49m\u001b[43m \u001b[49m\u001b[43mpadding_idx\u001b[49m\u001b[43m,\u001b[49m\u001b[43m \u001b[49m\u001b[43mscale_grad_by_freq\u001b[49m\u001b[43m,\u001b[49m\u001b[43m \u001b[49m\u001b[43msparse\u001b[49m\u001b[43m)\u001b[49m\n",
      "\u001b[0;31mRuntimeError\u001b[0m: Expected all tensors to be on the same device, but found at least two devices, cuda:0 and cpu! (when checking argument for argument index in method wrapper_CUDA__index_select)"
     ]
    }
   ],
   "source": [
    "def recommend_movies(model, user_id, top_n=10):\n",
    "    # Get the movie IDs for all movies\n",
    "    movie_ids = torch.arange(n_movies)\n",
    "\n",
    "    # Repeat the user ID for all movies\n",
    "    user_ids = torch.full((n_movies,), user_id)\n",
    "\n",
    "    # Get the predicted ratings for all movies by the given user\n",
    "    ratings = model(user_ids, movie_ids)\n",
    "\n",
    "    # Sort the movie IDs by predicted rating in descending order\n",
    "    sorted_indices = torch.argsort(ratings, descending=True)\n",
    "\n",
    "    # Get the top N movie IDs\n",
    "    top_indices = sorted_indices[:top_n]\n",
    "\n",
    "    # Convert the indices to movie IDs\n",
    "    top_movie_ids = [int(movie_ids[i]) for i in top_indices]\n",
    "\n",
    "    # Get the movie titles for the top N movie IDs\n",
    "    top_movie_titles = []\n",
    "    for movie_id in top_movie_ids:\n",
    "        if movie_id in movie_id_to_title:\n",
    "            top_movie_titles.append(movie_id_to_title[movie_id])\n",
    "        else:\n",
    "            top_movie_titles.append(f\"Movie Id:{movie_id}\")\n",
    "\n",
    "    return top_movie_titles\n",
    "\n",
    "recommend_movies(model, user_id=12, top_n=10) ## Not best of function to retrieve recommendations\n",
    "## It is better to retrieve recommendation from the embedding created by the model"
   ]
  }
 ],
 "metadata": {
  "kernelspec": {
   "display_name": "Python 3 (ipykernel)",
   "language": "python",
   "name": "python3"
  },
  "language_info": {
   "codemirror_mode": {
    "name": "ipython",
    "version": 3
   },
   "file_extension": ".py",
   "mimetype": "text/x-python",
   "name": "python",
   "nbconvert_exporter": "python",
   "pygments_lexer": "ipython3",
   "version": "3.12.3"
  },
  "papermill": {
   "default_parameters": {},
   "duration": 3298.022764,
   "end_time": "2023-08-12T11:08:06.383114",
   "environment_variables": {},
   "exception": true,
   "input_path": "__notebook__.ipynb",
   "output_path": "__notebook__.ipynb",
   "parameters": {},
   "start_time": "2023-08-12T10:13:08.360350",
   "version": "2.4.0"
  }
 },
 "nbformat": 4,
 "nbformat_minor": 5
}
